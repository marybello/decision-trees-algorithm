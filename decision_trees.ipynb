{
  "nbformat": 4,
  "nbformat_minor": 0,
  "metadata": {
    "colab": {
      "name": "decision_trees.ipynb",
      "provenance": [],
      "authorship_tag": "ABX9TyPZO8FZqgwHLHmKTLm0yMwn",
      "include_colab_link": true
    },
    "kernelspec": {
      "name": "python3",
      "display_name": "Python 3"
    }
  },
  "cells": [
    {
      "cell_type": "markdown",
      "metadata": {
        "id": "view-in-github",
        "colab_type": "text"
      },
      "source": [
        "<a href=\"https://colab.research.google.com/github/marybello/decision-trees-algorithm/blob/master/decision_trees.ipynb\" target=\"_parent\"><img src=\"https://colab.research.google.com/assets/colab-badge.svg\" alt=\"Open In Colab\"/></a>"
      ]
    },
    {
      "cell_type": "code",
      "metadata": {
        "id": "8tPWDzcVwfg_",
        "colab_type": "code",
        "colab": {}
      },
      "source": [
        "import numpy as np\n",
        "import pandas as pd\n",
        "\n",
        "#import the dataset\n",
        "\n",
        "dataset = pd.read_csv('iris.csv')\n",
        "#select the dependent and independent variable\n",
        "\n",
        "X = dataset.iloc[:,1:5]\n",
        "y= dataset.iloc[:,5]"
      ],
      "execution_count": 1,
      "outputs": []
    },
    {
      "cell_type": "code",
      "metadata": {
        "id": "J2t_EWn7yHHl",
        "colab_type": "code",
        "colab": {}
      },
      "source": [
        "from sklearn.model_selection import train_test_split\n",
        "X_train, X_test, y_train, y_test = train_test_split(X,y,test_size=0.3,random_state=0)"
      ],
      "execution_count": 2,
      "outputs": []
    },
    {
      "cell_type": "code",
      "metadata": {
        "id": "kEQbJj4zyLrd",
        "colab_type": "code",
        "colab": {}
      },
      "source": [
        "# Fitting Decision Tree to Training set\n",
        "from sklearn.tree import DecisionTreeClassifier\n",
        "classifier = DecisionTreeClassifier(criterion='entropy', random_state=0)\n",
        "classifier.fit(X_train, y_train)\n",
        "# Predicting Test set results\n",
        "y_pred = classifier.predict(X_test)\n"
      ],
      "execution_count": 3,
      "outputs": []
    },
    {
      "cell_type": "code",
      "metadata": {
        "id": "xZlm7RUtyRpg",
        "colab_type": "code",
        "colab": {
          "base_uri": "https://localhost:8080/",
          "height": 90
        },
        "outputId": "1acb3d03-efee-4ded-855e-7e27550ff4e0"
      },
      "source": [
        "from sklearn.metrics import confusion_matrix\n",
        "cm = confusion_matrix(y_test, y_pred)\n",
        "print(cm)\n",
        "\n",
        "from sklearn import metrics\n",
        "#accuracy score\n",
        "accuracy = metrics.accuracy_score(y_test, y_pred) *100\n",
        "print(accuracy)"
      ],
      "execution_count": 5,
      "outputs": [
        {
          "output_type": "stream",
          "text": [
            "[[16  0  0]\n",
            " [ 0 17  1]\n",
            " [ 0  0 11]]\n",
            "97.77777777777777\n"
          ],
          "name": "stdout"
        }
      ]
    },
    {
      "cell_type": "code",
      "metadata": {
        "id": "R2aDnc6VyeTL",
        "colab_type": "code",
        "colab": {
          "base_uri": "https://localhost:8080/",
          "height": 35
        },
        "outputId": "8a6fc73b-0b5c-4c68-8350-39002dbfa79d"
      },
      "source": [
        "#using random forest\n",
        "from sklearn.ensemble import RandomForestClassifier\n",
        "classifier2= RandomForestClassifier(n_estimators=5, criterion='entropy',random_state=0)\n",
        "classifier2.fit(X_train,y_train)\n",
        "\n",
        "#predicting test result\n",
        "y_pred2 = classifier2.predict(X_test)\n",
        "\n",
        "from sklearn import metrics\n",
        "#accuracy score\n",
        "accuracy2 = metrics.accuracy_score(y_test, y_pred2) *100\n",
        "print(accuracy2)"
      ],
      "execution_count": 8,
      "outputs": [
        {
          "output_type": "stream",
          "text": [
            "97.77777777777777\n"
          ],
          "name": "stdout"
        }
      ]
    },
    {
      "cell_type": "code",
      "metadata": {
        "id": "k7eEMFXnyYgt",
        "colab_type": "code",
        "colab": {}
      },
      "source": [
        ""
      ],
      "execution_count": null,
      "outputs": []
    }
  ]
}